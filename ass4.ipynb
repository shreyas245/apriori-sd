{
 "cells": [
  {
   "cell_type": "code",
   "execution_count": null,
   "id": "8b93acf3",
   "metadata": {},
   "outputs": [],
   "source": [
    "# We have given a collection of 8 points.\n",
    "# P1=[0.1,0.6]\n",
    "# P2=[0.15,0.71]\n",
    "# P3=[0.08,0.9]\n",
    "# P4=[0.16, 0.85]\n",
    "# P5=[0.2,0.3]\n",
    "# P6=[0.25,0.5]\n",
    "# P7=[0.24,0.1]\n",
    "# P8=[0.3,0.2]\n",
    "# Perform the k-mean clustering with initial centroids as m1=P1 =Cluster#1=C1 and\n",
    "# m2=P8=cluster#2=C2.\n",
    "# Answer the following:\n",
    "# 1] Which cluster does P6 belong to? \n",
    "# 2] What is the population of cluster around m2?\n",
    "# 3] What is updated value of m1 and m2?\n",
    "\n",
    "#Name: Adwait Nitin Deshpadne\n",
    "# Class: TE-AIML\n",
    "# Roll No: 33514"
   ]
  },
  {
   "cell_type": "code",
   "execution_count": 3,
   "id": "3c307fe0",
   "metadata": {},
   "outputs": [
    {
     "name": "stdout",
     "output_type": "stream",
     "text": [
      "Cluster 1: [array([0.1, 0.6]), array([0.15, 0.71]), array([0.08, 0.9 ]), array([0.16, 0.85]), array([0.25, 0.5 ])]\n",
      "Length:  5\n",
      "Cluster 2: [array([0.2, 0.3]), array([0.24, 0.1 ]), array([0.3, 0.2])]\n",
      "Length:  3\n"
     ]
    }
   ],
   "source": [
    "import numpy as np\n",
    "\n",
    "# Define the points and initial centroids\n",
    "P1 = np.array([0.1, 0.6])\n",
    "P2 = np.array([0.15, 0.71])\n",
    "P3 = np.array([0.08, 0.9])\n",
    "P4 = np.array([0.16, 0.85])\n",
    "P5 = np.array([0.2, 0.3])\n",
    "P6 = np.array([0.25, 0.5])\n",
    "P7 = np.array([0.24, 0.1])\n",
    "P8 = np.array([0.3, 0.2])\n",
    "\n",
    "m1 = P1\n",
    "m2 = P8\n",
    "\n",
    "# Define the maximum number of iterations\n",
    "max_iter = 100\n",
    "\n",
    "# Perform k-means clustering\n",
    "for i in range(max_iter):\n",
    "    # Assign each point to the closest centroid\n",
    "    C1 = []\n",
    "    C2 = []\n",
    "    for point in [P1, P2, P3, P4, P5, P6, P7, P8]:\n",
    "        dist1 = np.linalg.norm(point - m1)\n",
    "        dist2 = np.linalg.norm(point - m2)\n",
    "        if dist1 < dist2:\n",
    "            C1.append(point)\n",
    "        else:\n",
    "            C2.append(point)\n",
    "\n",
    "    # Recalculate the centroids\n",
    "    m1_new = np.mean(C1, axis=0)\n",
    "    m2_new = np.mean(C2, axis=0)\n",
    "\n",
    "    # Check for convergence\n",
    "    if np.allclose(m1, m1_new) and np.allclose(m2, m2_new):\n",
    "        break\n",
    "\n",
    "    # Update the centroids\n",
    "    m1 = m1_new\n",
    "    m2 = m2_new\n",
    "\n",
    "# Print the final clusters\n",
    "print(\"Cluster 1:\", C1)\n",
    "print(\"Length: \", len(C1))\n",
    "print(\"Cluster 2:\", C2)\n",
    "print(\"Length: \", len(C2))\n"
   ]
  },
  {
   "cell_type": "code",
   "execution_count": null,
   "id": "3a117b79",
   "metadata": {},
   "outputs": [],
   "source": [
    "\n",
    "# The code starts by importing the numpy library to perform vector operations and calculations.\n",
    "\n",
    "# Next, it defines the 8 points P1 to P8, and initializes the initial centroids m1 and m2 to P1 and P8 respectively.\n",
    "\n",
    "# It also sets the maximum number of iterations max_iter to 100. This is the maximum number of times that the algorithm will \n",
    "# iterate before it stops.\n",
    "\n",
    "# The code then enters a loop that performs k-means clustering. It repeats the following steps until convergence \n",
    "# is reached or until the maximum number of iterations is exceeded:\n",
    "\n",
    "# a. It assigns each point to the closest centroid (m1 or m2) by calculating the Euclidean distance between each \n",
    "# point and each centroid.\n",
    "\n",
    "# b. It creates two lists, C1 and C2, to hold the points that are assigned to each centroid.\n",
    "\n",
    "# c. It calculates the new centroids by taking the mean of the points in each cluster.\n",
    "\n",
    "# d. It checks for convergence by using the np.allclose function to compare the old centroids (m1 and m2) \n",
    "# with the new centroids (m1_new and m2_new).\n",
    "\n",
    "# e. If convergence is reached, the loop is broken.\n",
    "\n",
    "# f. If convergence is not reached, the old centroids are updated to the new centroids.\n",
    "\n",
    "# Finally, the code prints the final clusters C1 and C2."
   ]
  }
 ],
 "metadata": {
  "kernelspec": {
   "display_name": "Python 3 (ipykernel)",
   "language": "python",
   "name": "python3"
  },
  "language_info": {
   "codemirror_mode": {
    "name": "ipython",
    "version": 3
   },
   "file_extension": ".py",
   "mimetype": "text/x-python",
   "name": "python",
   "nbconvert_exporter": "python",
   "pygments_lexer": "ipython3",
   "version": "3.8.10"
  }
 },
 "nbformat": 4,
 "nbformat_minor": 5
}
