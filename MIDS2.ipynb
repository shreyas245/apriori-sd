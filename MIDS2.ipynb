{
 "cells": [
  {
   "cell_type": "code",
   "execution_count": 1,
   "id": "cfac3c14",
   "metadata": {},
   "outputs": [],
   "source": [
    "import nltk\n",
    "from nltk.tokenize import word_tokenize\n",
    "from nltk.corpus import stopwords\n",
    "from nltk.stem import WordNetLemmatizer\n",
    "from sklearn.feature_extraction.text import TfidfVectorizer\n",
    "from sklearn.naive_bayes import MultinomialNB\n",
    "from sklearn.model_selection import train_test_split"
   ]
  },
  {
   "cell_type": "code",
   "execution_count": 2,
   "id": "11942780",
   "metadata": {},
   "outputs": [
    {
     "name": "stderr",
     "output_type": "stream",
     "text": [
      "[nltk_data] Downloading package punkt to\n",
      "[nltk_data]     C:\\Users\\DELL\\AppData\\Roaming\\nltk_data...\n",
      "[nltk_data]   Package punkt is already up-to-date!\n",
      "[nltk_data] Downloading package stopwords to\n",
      "[nltk_data]     C:\\Users\\DELL\\AppData\\Roaming\\nltk_data...\n",
      "[nltk_data]   Package stopwords is already up-to-date!\n",
      "[nltk_data] Downloading package wordnet to\n",
      "[nltk_data]     C:\\Users\\DELL\\AppData\\Roaming\\nltk_data...\n",
      "[nltk_data]   Package wordnet is already up-to-date!\n"
     ]
    },
    {
     "data": {
      "text/plain": [
       "True"
      ]
     },
     "execution_count": 2,
     "metadata": {},
     "output_type": "execute_result"
    }
   ],
   "source": [
    "nltk.download('punkt')\n",
    "nltk.download('stopwords')\n",
    "nltk.download('wordnet')"
   ]
  },
  {
   "cell_type": "code",
   "execution_count": 3,
   "id": "646c8880",
   "metadata": {},
   "outputs": [],
   "source": [
    "def preprocess(text):\n",
    "    # Tokenization\n",
    "    tokens = word_tokenize(text.lower())\n",
    "    \n",
    "    # Remove stopwords\n",
    "    stop_words = set(stopwords.words('english'))\n",
    "    tokens = [token for token in tokens if token not in stop_words]\n",
    "    \n",
    "    # Lemmatization\n",
    "    lemmatizer = WordNetLemmatizer()\n",
    "    tokens = [lemmatizer.lemmatize(token) for token in tokens]\n",
    "    \n",
    "    return ' '.join(tokens)"
   ]
  },
  {
   "cell_type": "code",
   "execution_count": 4,
   "id": "47d850ad",
   "metadata": {},
   "outputs": [],
   "source": [
    "# Positive and negative polarity words\n",
    "positive_words = ['good', 'great', 'excellent', 'positive', 'awesome']\n",
    "negative_words = ['bad', 'terrible', 'negative', 'awful', 'poor']"
   ]
  },
  {
   "cell_type": "code",
   "execution_count": 5,
   "id": "28a14dd3",
   "metadata": {},
   "outputs": [],
   "source": [
    "documents = [\n",
    "    (\"The movie was excellent, I loved it!\", 'positive'),\n",
    "    (\"The food was terrible, I wouldn't recommend it.\", 'negative'),\n",
    "    (\"I had a great experience with their customer service.\", 'positive'),\n",
    "    (\"The weather today is awful, I hate it.\", 'negative'),\n",
    "    (\"The product quality is poor, very disappointing.\", 'negative'),\n",
    "    (\"I had a good time at the party, it was fun!\", 'positive')\n",
    "]"
   ]
  },
  {
   "cell_type": "code",
   "execution_count": 6,
   "id": "e0d1ef9f",
   "metadata": {},
   "outputs": [],
   "source": [
    "preprocessed_documents = [(preprocess(doc), label) for doc, label in documents]"
   ]
  },
  {
   "cell_type": "code",
   "execution_count": 7,
   "id": "741b46f2",
   "metadata": {},
   "outputs": [],
   "source": [
    "train_data, test_data = train_test_split(preprocessed_documents, test_size=0.2, random_state=42)"
   ]
  },
  {
   "cell_type": "code",
   "execution_count": 8,
   "id": "3b609f08",
   "metadata": {},
   "outputs": [],
   "source": [
    "# Create TF-IDF vectorizer\n",
    "vectorizer = TfidfVectorizer()"
   ]
  },
  {
   "cell_type": "code",
   "execution_count": 9,
   "id": "2196aad1",
   "metadata": {},
   "outputs": [],
   "source": [
    "# Generate feature vectors\n",
    "train_features = vectorizer.fit_transform([doc for doc, _ in train_data])\n",
    "test_features = vectorizer.transform([doc for doc, _ in test_data])"
   ]
  },
  {
   "cell_type": "code",
   "execution_count": 10,
   "id": "7d2ae1c5",
   "metadata": {},
   "outputs": [
    {
     "data": {
      "text/plain": [
       "MultinomialNB()"
      ]
     },
     "execution_count": 10,
     "metadata": {},
     "output_type": "execute_result"
    }
   ],
   "source": [
    "# Train a Naive Bayes classifier\n",
    "classifier = MultinomialNB()\n",
    "classifier.fit(train_features, [label for _, label in train_data])"
   ]
  },
  {
   "cell_type": "code",
   "execution_count": 16,
   "id": "945b38a4",
   "metadata": {},
   "outputs": [
    {
     "name": "stdout",
     "output_type": "stream",
     "text": [
      "Enter a document: The product quality is poor, very disappointing.\n"
     ]
    }
   ],
   "source": [
    "# User input\n",
    "user_input = input(\"Enter a document: \")"
   ]
  },
  {
   "cell_type": "code",
   "execution_count": 17,
   "id": "072361ac",
   "metadata": {},
   "outputs": [],
   "source": [
    "preprocessed_input = preprocess(user_input)"
   ]
  },
  {
   "cell_type": "code",
   "execution_count": 18,
   "id": "481a15c0",
   "metadata": {},
   "outputs": [],
   "source": [
    "input_features = vectorizer.transform([preprocessed_input])"
   ]
  },
  {
   "cell_type": "code",
   "execution_count": 19,
   "id": "90f7fb79",
   "metadata": {},
   "outputs": [
    {
     "name": "stdout",
     "output_type": "stream",
     "text": [
      "Predicted polarity: negative\n"
     ]
    }
   ],
   "source": [
    "# Predict polarity\n",
    "prediction = classifier.predict(input_features)[0]\n",
    "print(\"Predicted polarity:\", prediction)\n"
   ]
  },
  {
   "cell_type": "code",
   "execution_count": null,
   "id": "066c1fa1",
   "metadata": {},
   "outputs": [],
   "source": []
  }
 ],
 "metadata": {
  "kernelspec": {
   "display_name": "Python 3 (ipykernel)",
   "language": "python",
   "name": "python3"
  },
  "language_info": {
   "codemirror_mode": {
    "name": "ipython",
    "version": 3
   },
   "file_extension": ".py",
   "mimetype": "text/x-python",
   "name": "python",
   "nbconvert_exporter": "python",
   "pygments_lexer": "ipython3",
   "version": "3.9.7"
  }
 },
 "nbformat": 4,
 "nbformat_minor": 5
}
